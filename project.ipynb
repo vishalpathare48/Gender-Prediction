{
 "cells": [
  {
   "cell_type": "markdown",
   "metadata": {},
   "source": [
    "# ADM PROJECT"
   ]
  },
  {
   "cell_type": "markdown",
   "metadata": {},
   "source": [
    "Importing Libraries"
   ]
  },
  {
   "cell_type": "code",
   "execution_count": 19,
   "metadata": {},
   "outputs": [
    {
     "name": "stdout",
     "output_type": "stream",
     "text": [
      "[nltk_data] Downloading package wordnet to\n",
      "[nltk_data]     C:\\Users\\Vishal\\AppData\\Roaming\\nltk_data...\n",
      "[nltk_data]   Package wordnet is already up-to-date!\n"
     ]
    }
   ],
   "source": [
    "\n",
    "import pandas as pd \n",
    "import numpy as np\n",
    "import seaborn as sns \n",
    "import nltk\n",
    "nltk.download('wordnet')\n",
    "import re \n",
    "import operator\n",
    "from nltk.stem import WordNetLemmatizer\n",
    "from nltk.corpus import stopwords \n",
    "from nltk.tokenize import word_tokenize\n",
    "stop_words = set(stopwords.words('english'))\n",
    "from sklearn.metrics import confusion_matrix\n",
    "from sklearn.metrics import accuracy_score\n",
    "from sklearn.ensemble import RandomForestClassifier\n",
    "from sklearn.model_selection import cross_val_score \n",
    "from sklearn.metrics import classification_report\n"
   ]
  },
  {
   "cell_type": "markdown",
   "metadata": {},
   "source": [
    "Input CSV"
   ]
  },
  {
   "cell_type": "code",
   "execution_count": 20,
   "metadata": {},
   "outputs": [],
   "source": [
    "data = pd.read_csv('gender-classifier.csv',encoding = \"latin1\")"
   ]
  },
  {
   "cell_type": "code",
   "execution_count": 21,
   "metadata": {},
   "outputs": [
    {
     "data": {
      "text/html": [
       "<div>\n",
       "<style scoped>\n",
       "    .dataframe tbody tr th:only-of-type {\n",
       "        vertical-align: middle;\n",
       "    }\n",
       "\n",
       "    .dataframe tbody tr th {\n",
       "        vertical-align: top;\n",
       "    }\n",
       "\n",
       "    .dataframe thead th {\n",
       "        text-align: right;\n",
       "    }\n",
       "</style>\n",
       "<table border=\"1\" class=\"dataframe\">\n",
       "  <thead>\n",
       "    <tr style=\"text-align: right;\">\n",
       "      <th></th>\n",
       "      <th>_unit_id</th>\n",
       "      <th>_trusted_judgments</th>\n",
       "      <th>gender:confidence</th>\n",
       "      <th>profile_yn:confidence</th>\n",
       "      <th>fav_number</th>\n",
       "      <th>retweet_count</th>\n",
       "      <th>tweet_count</th>\n",
       "      <th>tweet_id</th>\n",
       "    </tr>\n",
       "  </thead>\n",
       "  <tbody>\n",
       "    <tr>\n",
       "      <th>count</th>\n",
       "      <td>2.005000e+04</td>\n",
       "      <td>20050.000000</td>\n",
       "      <td>20024.000000</td>\n",
       "      <td>20050.000000</td>\n",
       "      <td>20050.000000</td>\n",
       "      <td>20050.000000</td>\n",
       "      <td>2.005000e+04</td>\n",
       "      <td>2.005000e+04</td>\n",
       "    </tr>\n",
       "    <tr>\n",
       "      <th>mean</th>\n",
       "      <td>8.157294e+08</td>\n",
       "      <td>3.615711</td>\n",
       "      <td>0.882756</td>\n",
       "      <td>0.993221</td>\n",
       "      <td>4382.201646</td>\n",
       "      <td>0.079401</td>\n",
       "      <td>3.892469e+04</td>\n",
       "      <td>6.587350e+17</td>\n",
       "    </tr>\n",
       "    <tr>\n",
       "      <th>std</th>\n",
       "      <td>6.000801e+03</td>\n",
       "      <td>12.331890</td>\n",
       "      <td>0.191403</td>\n",
       "      <td>0.047168</td>\n",
       "      <td>12518.575919</td>\n",
       "      <td>2.649751</td>\n",
       "      <td>1.168371e+05</td>\n",
       "      <td>5.000124e+12</td>\n",
       "    </tr>\n",
       "    <tr>\n",
       "      <th>min</th>\n",
       "      <td>8.157192e+08</td>\n",
       "      <td>3.000000</td>\n",
       "      <td>0.000000</td>\n",
       "      <td>0.627200</td>\n",
       "      <td>0.000000</td>\n",
       "      <td>0.000000</td>\n",
       "      <td>1.000000e+00</td>\n",
       "      <td>6.587300e+17</td>\n",
       "    </tr>\n",
       "    <tr>\n",
       "      <th>25%</th>\n",
       "      <td>8.157243e+08</td>\n",
       "      <td>3.000000</td>\n",
       "      <td>0.677800</td>\n",
       "      <td>1.000000</td>\n",
       "      <td>11.000000</td>\n",
       "      <td>0.000000</td>\n",
       "      <td>2.398000e+03</td>\n",
       "      <td>6.587300e+17</td>\n",
       "    </tr>\n",
       "    <tr>\n",
       "      <th>50%</th>\n",
       "      <td>8.157294e+08</td>\n",
       "      <td>3.000000</td>\n",
       "      <td>1.000000</td>\n",
       "      <td>1.000000</td>\n",
       "      <td>456.000000</td>\n",
       "      <td>0.000000</td>\n",
       "      <td>1.144150e+04</td>\n",
       "      <td>6.587300e+17</td>\n",
       "    </tr>\n",
       "    <tr>\n",
       "      <th>75%</th>\n",
       "      <td>8.157345e+08</td>\n",
       "      <td>3.000000</td>\n",
       "      <td>1.000000</td>\n",
       "      <td>1.000000</td>\n",
       "      <td>3315.500000</td>\n",
       "      <td>0.000000</td>\n",
       "      <td>4.002750e+04</td>\n",
       "      <td>6.587400e+17</td>\n",
       "    </tr>\n",
       "    <tr>\n",
       "      <th>max</th>\n",
       "      <td>8.157580e+08</td>\n",
       "      <td>274.000000</td>\n",
       "      <td>1.000000</td>\n",
       "      <td>1.000000</td>\n",
       "      <td>341621.000000</td>\n",
       "      <td>330.000000</td>\n",
       "      <td>2.680199e+06</td>\n",
       "      <td>6.587400e+17</td>\n",
       "    </tr>\n",
       "  </tbody>\n",
       "</table>\n",
       "</div>"
      ],
      "text/plain": [
       "           _unit_id  _trusted_judgments  gender:confidence  \\\n",
       "count  2.005000e+04        20050.000000       20024.000000   \n",
       "mean   8.157294e+08            3.615711           0.882756   \n",
       "std    6.000801e+03           12.331890           0.191403   \n",
       "min    8.157192e+08            3.000000           0.000000   \n",
       "25%    8.157243e+08            3.000000           0.677800   \n",
       "50%    8.157294e+08            3.000000           1.000000   \n",
       "75%    8.157345e+08            3.000000           1.000000   \n",
       "max    8.157580e+08          274.000000           1.000000   \n",
       "\n",
       "       profile_yn:confidence     fav_number  retweet_count   tweet_count  \\\n",
       "count           20050.000000   20050.000000   20050.000000  2.005000e+04   \n",
       "mean                0.993221    4382.201646       0.079401  3.892469e+04   \n",
       "std                 0.047168   12518.575919       2.649751  1.168371e+05   \n",
       "min                 0.627200       0.000000       0.000000  1.000000e+00   \n",
       "25%                 1.000000      11.000000       0.000000  2.398000e+03   \n",
       "50%                 1.000000     456.000000       0.000000  1.144150e+04   \n",
       "75%                 1.000000    3315.500000       0.000000  4.002750e+04   \n",
       "max                 1.000000  341621.000000     330.000000  2.680199e+06   \n",
       "\n",
       "           tweet_id  \n",
       "count  2.005000e+04  \n",
       "mean   6.587350e+17  \n",
       "std    5.000124e+12  \n",
       "min    6.587300e+17  \n",
       "25%    6.587300e+17  \n",
       "50%    6.587300e+17  \n",
       "75%    6.587400e+17  \n",
       "max    6.587400e+17  "
      ]
     },
     "execution_count": 21,
     "metadata": {},
     "output_type": "execute_result"
    }
   ],
   "source": [
    "#Data Describtion\n",
    "data.describe()"
   ]
  },
  {
   "cell_type": "code",
   "execution_count": 22,
   "metadata": {
    "scrolled": true
   },
   "outputs": [
    {
     "data": {
      "text/plain": [
       "<matplotlib.axes._subplots.AxesSubplot at 0x1c36aa3dc18>"
      ]
     },
     "execution_count": 22,
     "metadata": {},
     "output_type": "execute_result"
    },
    {
     "data": {
      "image/png": "[encoded data removed]",
      "text/plain": [
       "<Figure size 432x288 with 1 Axes>"
      ]
     },
     "metadata": {},
     "output_type": "display_data"
    }
   ],
   "source": [
    "#Data Distribution based on dependant variable 'Gender'\n",
    "sns.countplot(x=\"gender\",data=data)"
   ]
  },
  {
   "cell_type": "markdown",
   "metadata": {},
   "source": [
    "# MODEL 1"
   ]
  },
  {
   "cell_type": "code",
   "execution_count": 23,
   "metadata": {},
   "outputs": [],
   "source": [
    "#Model 1 preprocessing is based on the parameter of the model Parameter are  fav_number','link_color','sidebar_color',\n",
    "#'tweet_count','gender'\n",
    "\n",
    "#Hex to RBG Converter For Color \n",
    "def hex_to_rgb(value):\n",
    "    value = value.lstrip('#')\n",
    "    lv = len(value)\n",
    "    return tuple(int(value[i:i + lv // 3], 16) for i in range(0, lv, lv // 3))\n",
    "\n",
    "def model1Preprocessing(data):\n",
    "    data1 = data[ (data[\"gender:confidence\"]>0.7) & (data['gender']!='unknown') ]\n",
    "    dataColorPred = data1.loc[:,['fav_number','link_color','sidebar_color','tweet_count','gender']]\n",
    "    dataColorPred.shape\n",
    "    dataColorPred_1 = dataColorPred[(dataColorPred.link_color.str.len() ==6) & (dataColorPred.sidebar_color.str.len() ==6)]\n",
    "    dataColorPred_1.shape\n",
    "    dataColorPred_1.reset_index(inplace=True)\n",
    "    Link_color_array=np.array(dataColorPred_1['link_color'])\n",
    "    SideBar_color_array=np.array(dataColorPred_1['sidebar_color'])\n",
    "    r,b,g,r1,b1,g1=[],[],[],[],[],[]\n",
    "    for i in range(dataColorPred_1['link_color'].count()):    \n",
    "            temp='#' + Link_color_array[i]\n",
    "            temp1=hex_to_rgb(temp)\n",
    "            r.append(temp1[0]) \n",
    "            b.append(temp1[1])\n",
    "            g.append(temp1[2])\n",
    "\n",
    "    for i in range(dataColorPred_1['sidebar_color'].count()):    \n",
    "            temp='#' + SideBar_color_array[i]\n",
    "            temp1=hex_to_rgb(temp)\n",
    "            r1.append(temp1[0]) \n",
    "            b1.append(temp1[1])\n",
    "            g1.append(temp1[2])\n",
    "\n",
    "    r=pd.Series(r)\n",
    "    b=pd.Series(b)\n",
    "    g=pd.Series(g)\n",
    "    r1=pd.Series(r1)\n",
    "    b1=pd.Series(b1)\n",
    "    g1=pd.Series(g1)\n",
    "\n",
    "    dataColorPred_2=pd.concat([r,b,g,r1,b1,g1],axis=1)\n",
    "    dataColorPred_2=pd.concat([dataColorPred_1.loc[:,['fav_number','tweet_count','gender']],dataColorPred_2],axis=1,ignore_index=True)\n",
    "\n",
    "    Y= dataColorPred_2.iloc[:,2]     \n",
    "    X= dataColorPred_2.iloc[:,[0,1,3,4,5,6,7,8]] \n",
    "    ''' \n",
    "    from sklearn.preprocessing import StandardScaler\n",
    "    scalar=StandardScaler()\n",
    "    X=scalar.fit_transform(X)\n",
    "    '''\n",
    "    return X,Y\n"
   ]
  },
  {
   "cell_type": "markdown",
   "metadata": {},
   "source": [
    "#Test and Train Split:"
   ]
  },
  {
   "cell_type": "code",
   "execution_count": 24,
   "metadata": {},
   "outputs": [],
   "source": [
    "X,Y=model1Preprocessing(data)\n",
    "from sklearn.model_selection import train_test_split\n",
    "xtrain,xtest,ytrain,ytest=train_test_split(X,Y,test_size=.25,random_state=0)"
   ]
  },
  {
   "cell_type": "markdown",
   "metadata": {},
   "source": [
    "Random Forest"
   ]
  },
  {
   "cell_type": "code",
   "execution_count": 25,
   "metadata": {},
   "outputs": [
    {
     "name": "stdout",
     "output_type": "stream",
     "text": [
      "Model 1 Random forest accuracy on test Dataset is: 56.627450980392155\n",
      "\n",
      " Random Forest accuracy using cross validation  on training data is 56.71419011500601\n",
      "\n",
      " Confusion Matrix: \n",
      " \n",
      "[[416 111 168]\n",
      " [ 95 581 318]\n",
      " [104 310 447]]\n",
      "\n",
      " Classification report: \n",
      "              precision    recall  f1-score   support\n",
      "\n",
      "       brand       0.68      0.60      0.64       695\n",
      "      female       0.58      0.58      0.58       994\n",
      "        male       0.48      0.52      0.50       861\n",
      "\n",
      "   micro avg       0.57      0.57      0.57      2550\n",
      "   macro avg       0.58      0.57      0.57      2550\n",
      "weighted avg       0.57      0.57      0.57      2550\n",
      "\n",
      "\n",
      " Importance of selected feature: [0.36831017 0.29407737 0.08264999 0.07343089 0.07544664 0.03607674\n",
      " 0.03451862 0.03548958]\n"
     ]
    }
   ],
   "source": [
    "#Random Forest the parameter has been set to best parameter values got in Grid Search CV\n",
    "clfRModel1 = RandomForestClassifier(n_estimators=1000, max_depth=15,random_state=0)\n",
    "clfRModel1.fit(xtrain,ytrain)\n",
    "ypred = clfRModel1.predict(xtest)\n",
    "print('Model 1 Random forest accuracy on test Dataset is:',accuracy_score(ytest,ypred)*100)\n",
    "#Random forest cross validation accuracy\n",
    "accuracies = cross_val_score(clfRModel1,xtrain,ytrain,cv=10)     \n",
    "print('\\n Random Forest accuracy using cross validation  on training data is',pd.Series.mean(pd.Series(accuracies))*100)\n",
    "#Confusion Matrix:\n",
    "print('\\n Confusion Matrix: \\n ')\n",
    "print(confusion_matrix(ytest,ypred,labels=[\"brand\",\"female\",\"male\"]))\n",
    "#Printing Classification Report\n",
    "print('\\n Classification report: ')\n",
    "print(classification_report(ytest,ypred))\n",
    "#To check important features in Random Forest.\n",
    "print('\\n Importance of selected feature:',clfRModel1.feature_importances_)"
   ]
  },
  {
   "cell_type": "markdown",
   "metadata": {},
   "source": [
    "KNN Model"
   ]
  },
  {
   "cell_type": "code",
   "execution_count": 26,
   "metadata": {},
   "outputs": [
    {
     "name": "stdout",
     "output_type": "stream",
     "text": [
      "\n",
      " KNN accuracy on test Dataset is: 49.96078431372549\n",
      "\n",
      " Confusion Matrix\n",
      "[[447 112 136]\n",
      " [189 542 263]\n",
      " [193 383 285]]\n",
      "\n",
      " Classification report: \n",
      "              precision    recall  f1-score   support\n",
      "\n",
      "       brand       0.54      0.64      0.59       695\n",
      "      female       0.52      0.55      0.53       994\n",
      "        male       0.42      0.33      0.37       861\n",
      "\n",
      "   micro avg       0.50      0.50      0.50      2550\n",
      "   macro avg       0.49      0.51      0.50      2550\n",
      "weighted avg       0.49      0.50      0.49      2550\n",
      "\n"
     ]
    }
   ],
   "source": [
    "#KNN Tree k  parameter has been set to best parameter values got in Grid Search CV\n",
    "from sklearn.neighbors import KNeighborsClassifier\n",
    "KNNColorModel1 = KNeighborsClassifier(n_neighbors=30)\n",
    "KNNColorModel1.fit(xtrain,ytrain)\n",
    "ypred = KNNColorModel1.predict(xtest)\n",
    "print('\\n KNN accuracy on test Dataset is:',accuracy_score(ytest,ypred)*100)\n",
    "cm=confusion_matrix(ytest,ypred)\n",
    "print('\\n Confusion Matrix')\n",
    "print(cm)\n",
    "print('\\n Classification report: ')\n",
    "print(classification_report(ytest,ypred))"
   ]
  },
  {
   "cell_type": "markdown",
   "metadata": {},
   "source": [
    "Naive Bayes"
   ]
  },
  {
   "cell_type": "code",
   "execution_count": 27,
   "metadata": {},
   "outputs": [
    {
     "name": "stdout",
     "output_type": "stream",
     "text": [
      "\n",
      " Naive Bayes accuracy on Unseen Dataset is: 43.09803921568627\n",
      "\n",
      " Naive Byes accuracy using cross validation  on training data is 42.620341489695925\n",
      "\n",
      " Confusion Matrix\n",
      "[[ 66 138 491]\n",
      " [ 27 388 579]\n",
      " [ 27 189 645]]\n",
      "\n",
      " Classification report: \n",
      "              precision    recall  f1-score   support\n",
      "\n",
      "       brand       0.55      0.09      0.16       695\n",
      "      female       0.54      0.39      0.45       994\n",
      "        male       0.38      0.75      0.50       861\n",
      "\n",
      "   micro avg       0.43      0.43      0.43      2550\n",
      "   macro avg       0.49      0.41      0.37      2550\n",
      "weighted avg       0.49      0.43      0.39      2550\n",
      "\n"
     ]
    }
   ],
   "source": [
    "\n",
    "from sklearn.naive_bayes import GaussianNB\n",
    "NBColor = GaussianNB()\n",
    "NBColor.fit(xtrain,ytrain)\n",
    "ypred = NBColor.predict(xtest)\n",
    "print('\\n Naive Bayes accuracy on Unseen Dataset is:',accuracy_score(ytest,ypred)*100)\n",
    "accuracies = cross_val_score(NBColor,xtrain,ytrain,cv=10)     \n",
    "print('\\n Naive Byes accuracy using cross validation  on training data is',pd.Series.mean(pd.Series(accuracies))*100)\n",
    "cm=confusion_matrix(ytest,ypred)\n",
    "print('\\n Confusion Matrix')\n",
    "print(cm)\n",
    "print('\\n Classification report: ')\n",
    "print(classification_report(ytest,ypred))"
   ]
  },
  {
   "cell_type": "markdown",
   "metadata": {},
   "source": [
    "Decision Tree"
   ]
  },
  {
   "cell_type": "code",
   "execution_count": 28,
   "metadata": {},
   "outputs": [
    {
     "name": "stdout",
     "output_type": "stream",
     "text": [
      "Decision Tree accuracy on test Dataset is: 54.627450980392155\n",
      "\n",
      " Confusion Matrix\n",
      "[[400 116 179]\n",
      " [107 539 348]\n",
      " [112 295 454]]\n",
      "\n",
      " Classification report: \n",
      "              precision    recall  f1-score   support\n",
      "\n",
      "       brand       0.65      0.58      0.61       695\n",
      "      female       0.57      0.54      0.55       994\n",
      "        male       0.46      0.53      0.49       861\n",
      "\n",
      "   micro avg       0.55      0.55      0.55      2550\n",
      "   macro avg       0.56      0.55      0.55      2550\n",
      "weighted avg       0.55      0.55      0.55      2550\n",
      "\n"
     ]
    }
   ],
   "source": [
    "\n",
    "from sklearn import tree\n",
    "clf = tree.DecisionTreeClassifier(max_depth =10)\n",
    "clf = clf.fit(xtrain,ytrain)\n",
    "ypred = clf.predict(xtest)\n",
    "print('Decision Tree accuracy on test Dataset is:',accuracy_score(ytest,ypred)*100)\n",
    "print('\\n Confusion Matrix')\n",
    "print(confusion_matrix(ytest,ypred))\n",
    "print('\\n Classification report: ')\n",
    "print(classification_report(ytest,ypred))\n"
   ]
  },
  {
   "cell_type": "markdown",
   "metadata": {},
   "source": [
    "# Model 2 "
   ]
  },
  {
   "cell_type": "code",
   "execution_count": 29,
   "metadata": {},
   "outputs": [],
   "source": [
    "#Model 2 preprocessing is based on the parameter of the model Parameter are  fav_number','link_color','sidebar_color',\n",
    "#'tweet_count','gender'\n",
    "\n",
    "\n",
    "def Model2Preprocessing(data):\n",
    "    data = data[ (data[\"gender:confidence\"]>0.7) & (data['gender']!='unknown') ]\n",
    "    dataForNB = data.loc[:,['description','text','gender']]\n",
    "    dataForNB.reset_index(drop=True,inplace=True)\n",
    "    data.reset_index(drop=True,inplace=True)\n",
    "    descriptionandtext=[]\n",
    "    for i in range(dataForNB['description'].shape[0]):\n",
    "        descriptionandtext.append(str(dataForNB['description'][i]) + \" \" + str(dataForNB['text'][i])) \n",
    "    dataForNB=pd.concat([pd.Series(descriptionandtext),data['gender']],axis=1)\n",
    "    dataForNB= dataForNB.dropna()\n",
    "\n",
    "    #Cleaning the text data\n",
    "\n",
    "    L,Listoftext,corpus=[],[],[]\n",
    "    wordnet_lemmatizer = WordNetLemmatizer()\n",
    "    for i in range(dataForNB[0].shape[0]):\n",
    "        text = re.sub('[^a-zA-Z]',' ',dataForNB[0][i])\n",
    "        text=text.lower()\n",
    "        text=text.split()\n",
    "        text=list(map(wordnet_lemmatizer.lemmatize,text))\n",
    "        text=[a for a in text if a not in stop_words and len(a)>=3 ]\n",
    "        dataForNB[0][i]=\" \".join(text)\n",
    "        Listoftext.append(dataForNB[0][i]) \n",
    "\n",
    "    X=dataForNB.iloc[:,0]\n",
    "    Y=dataForNB.iloc[:,1]\n",
    "    \n",
    "    return X,Y\n"
   ]
  },
  {
   "cell_type": "markdown",
   "metadata": {},
   "source": [
    "Creating Countvectorizer for train and test data :"
   ]
  },
  {
   "cell_type": "code",
   "execution_count": 30,
   "metadata": {},
   "outputs": [],
   "source": [
    "X,Y=Model2Preprocessing(data)\n",
    "from sklearn.model_selection import train_test_split\n",
    "xtrain,xtest,ytrain,ytest=train_test_split(X,Y,test_size=.25,random_state=0)\n",
    "from sklearn.feature_extraction.text import CountVectorizer\n",
    "cv=CountVectorizer()\n",
    "xtrain=cv.fit_transform(xtrain).toarray()\n",
    "xtest=cv.transform(xtest)"
   ]
  },
  {
   "cell_type": "markdown",
   "metadata": {},
   "source": [
    "Naive bayes"
   ]
  },
  {
   "cell_type": "code",
   "execution_count": 31,
   "metadata": {},
   "outputs": [
    {
     "name": "stdout",
     "output_type": "stream",
     "text": [
      "\n",
      " Naive Bayes accuracy on test Dataset is: 65.55812608444187\n",
      "\n",
      " Confusion Matrix\n",
      "[[ 654  144  116]\n",
      " [  88 1027  224]\n",
      " [ 120  499  586]]\n",
      "\n",
      " Classification report:\n",
      "              precision    recall  f1-score   support\n",
      "\n",
      "       brand       0.76      0.72      0.74       914\n",
      "      female       0.61      0.77      0.68      1339\n",
      "        male       0.63      0.49      0.55      1205\n",
      "\n",
      "   micro avg       0.66      0.66      0.66      3458\n",
      "   macro avg       0.67      0.66      0.66      3458\n",
      "weighted avg       0.66      0.66      0.65      3458\n",
      "\n"
     ]
    }
   ],
   "source": [
    "import sklearn.naive_bayes\n",
    "clfNB =sklearn.naive_bayes.MultinomialNB(alpha=1.010)\n",
    "clfNB.fit(xtrain,ytrain)\n",
    "ypred=clfNB.predict(xtest)\n",
    "print('\\n Naive Bayes accuracy on test Dataset is:',accuracy_score(ytest,ypred)*100)\n",
    "cm=confusion_matrix(ytest,ypred)\n",
    "print('\\n Confusion Matrix')\n",
    "print(cm)\n",
    "print('\\n Classification report:')\n",
    "print(classification_report(ytest,ypred))"
   ]
  },
  {
   "cell_type": "markdown",
   "metadata": {},
   "source": [
    "Decision Tree"
   ]
  },
  {
   "cell_type": "code",
   "execution_count": 32,
   "metadata": {},
   "outputs": [
    {
     "name": "stdout",
     "output_type": "stream",
     "text": [
      "\n",
      " Decision Tree accuracy on Unseen Dataset is: 56.21746674378253\n",
      "\n",
      " Confusion Matrix\n",
      "[[597 166 151]\n",
      " [123 839 377]\n",
      " [171 526 508]]\n",
      "\n",
      " Classification report: \n",
      "              precision    recall  f1-score   support\n",
      "\n",
      "       brand       0.67      0.65      0.66       914\n",
      "      female       0.55      0.63      0.58      1339\n",
      "        male       0.49      0.42      0.45      1205\n",
      "\n",
      "   micro avg       0.56      0.56      0.56      3458\n",
      "   macro avg       0.57      0.57      0.57      3458\n",
      "weighted avg       0.56      0.56      0.56      3458\n",
      "\n"
     ]
    }
   ],
   "source": [
    "from sklearn import tree\n",
    "clfDT = tree.DecisionTreeClassifier()\n",
    "clfDT.fit(xtrain,ytrain)\n",
    "ypred = clfDT.predict(xtest) \n",
    "print('\\n Decision Tree accuracy on Unseen Dataset is:',accuracy_score(ytest,ypred)*100)\n",
    "cm=confusion_matrix(ytest,ypred)\n",
    "print('\\n Confusion Matrix')\n",
    "print(cm)\n",
    "print('\\n Classification report: ')\n",
    "print(classification_report(ytest,ypred))"
   ]
  },
  {
   "cell_type": "markdown",
   "metadata": {},
   "source": [
    "Random Forest "
   ]
  },
  {
   "cell_type": "code",
   "execution_count": 33,
   "metadata": {},
   "outputs": [
    {
     "name": "stderr",
     "output_type": "stream",
     "text": [
      "C:\\Users\\Vishal\\Anaconda3\\lib\\site-packages\\sklearn\\ensemble\\forest.py:246: FutureWarning: The default value of n_estimators will change from 10 in version 0.20 to 100 in 0.22.\n",
      "  \"10 in version 0.20 to 100 in 0.22.\", FutureWarning)\n"
     ]
    },
    {
     "name": "stdout",
     "output_type": "stream",
     "text": [
      "\n",
      " Random forest accuracy on Unseen Dataset is: 56.21746674378253\n",
      "\n",
      " Confusion Matrix\n",
      "[[597 166 151]\n",
      " [123 839 377]\n",
      " [171 526 508]]\n",
      "\n",
      " Classification report: \n",
      "              precision    recall  f1-score   support\n",
      "\n",
      "       brand       0.67      0.65      0.66       914\n",
      "      female       0.55      0.63      0.58      1339\n",
      "        male       0.49      0.42      0.45      1205\n",
      "\n",
      "   micro avg       0.56      0.56      0.56      3458\n",
      "   macro avg       0.57      0.57      0.57      3458\n",
      "weighted avg       0.56      0.56      0.56      3458\n",
      "\n"
     ]
    }
   ],
   "source": [
    "clfRF = RandomForestClassifier()\n",
    "clfRF.fit(xtrain,ytrain)\n",
    "ypredR = clfRF.predict(xtest)\n",
    "print('\\n Random forest accuracy on Unseen Dataset is:',accuracy_score(ytest,ypred)*100)\n",
    "cm=confusion_matrix(ytest,ypred)\n",
    "print('\\n Confusion Matrix')\n",
    "print(cm)\n",
    "print('\\n Classification report: ')\n",
    "print(classification_report(ytest,ypred))"
   ]
  },
  {
   "cell_type": "markdown",
   "metadata": {},
   "source": [
    "# Please Input Test File Here "
   ]
  },
  {
   "cell_type": "code",
   "execution_count": 34,
   "metadata": {},
   "outputs": [],
   "source": [
    "#give test file path here inside read_csv\n",
    "testdata=pd.read_csv('gender-classifier.csv',encoding = \"latin1\")"
   ]
  },
  {
   "cell_type": "markdown",
   "metadata": {},
   "source": [
    "Model 1 Accuracy on Random Forest"
   ]
  },
  {
   "cell_type": "code",
   "execution_count": 35,
   "metadata": {},
   "outputs": [
    {
     "name": "stdout",
     "output_type": "stream",
     "text": [
      "Model 1 : Random forest accuracy on test file is: 75.45837827237965\n",
      "\n",
      " Confusion Matrix: \n",
      " \n",
      "[[2223  210  429]\n",
      " [ 241 2894  742]\n",
      " [ 223  658 2579]]\n",
      "Classification report\n",
      "              precision    recall  f1-score   support\n",
      "\n",
      "       brand       0.83      0.78      0.80      2862\n",
      "      female       0.77      0.75      0.76      3877\n",
      "        male       0.69      0.75      0.72      3460\n",
      "\n",
      "   micro avg       0.75      0.75      0.75     10199\n",
      "   macro avg       0.76      0.76      0.76     10199\n",
      "weighted avg       0.76      0.75      0.76     10199\n",
      "\n"
     ]
    }
   ],
   "source": [
    "X,Y=model1Preprocessing(testdata)\n",
    "ypred = clfRModel1.predict(X)\n",
    "print('Model 1 : Random forest accuracy on test file is:',accuracy_score(Y,ypred)*100)\n",
    "#Confusion Matrix:\n",
    "print('\\n Confusion Matrix: \\n ')\n",
    "print(confusion_matrix(Y,ypred,labels=[\"brand\",\"female\",\"male\"]))\n",
    "print('Classification report')\n",
    "print(classification_report(Y,ypred))"
   ]
  },
  {
   "cell_type": "markdown",
   "metadata": {},
   "source": [
    "Model 2 accuracy on Naive Bayes"
   ]
  },
  {
   "cell_type": "code",
   "execution_count": 36,
   "metadata": {},
   "outputs": [
    {
     "name": "stdout",
     "output_type": "stream",
     "text": [
      "Model 1 : Random forest accuracy on test file is: 84.86119144013881\n",
      "\n",
      " Confusion Matrix: \n",
      " \n",
      "[[3299  287  205]\n",
      " [ 174 4899  301]\n",
      " [ 217  910 3540]]\n",
      "Classification report\n",
      "              precision    recall  f1-score   support\n",
      "\n",
      "       brand       0.89      0.87      0.88      3791\n",
      "      female       0.80      0.91      0.85      5374\n",
      "        male       0.87      0.76      0.81      4667\n",
      "\n",
      "   micro avg       0.85      0.85      0.85     13832\n",
      "   macro avg       0.86      0.85      0.85     13832\n",
      "weighted avg       0.85      0.85      0.85     13832\n",
      "\n"
     ]
    }
   ],
   "source": [
    "X,Y=Model2Preprocessing(testdata)\n",
    "X=cv.transform(X)\n",
    "ypred=clfNB.predict(X)\n",
    "print('Model 1 : Random forest accuracy on test file is:',accuracy_score(Y,ypred)*100)\n",
    "#Confusion Matrix:\n",
    "print('\\n Confusion Matrix: \\n ')\n",
    "print(confusion_matrix(Y,ypred,labels=[\"brand\",\"female\",\"male\"]))\n",
    "print('Classification report')\n",
    "print(classification_report(Y,ypred))"
   ]
  },
  {
   "cell_type": "code",
   "execution_count": null,
   "metadata": {},
   "outputs": [],
   "source": []
  }
 ],
 "metadata": {
  "kernelspec": {
   "display_name": "Python 3",
   "language": "python",
   "name": "python3"
  },
  "language_info": {
   "codemirror_mode": {
    "name": "ipython",
    "version": 3
   },
   "file_extension": ".py",
   "mimetype": "text/x-python",
   "name": "python",
   "nbconvert_exporter": "python",
   "pygments_lexer": "ipython3",
   "version": "3.6.5"
  }
 },
 "nbformat": 4,
 "nbformat_minor": 2
}
